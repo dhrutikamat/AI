{
 "cells": [
  {
   "cell_type": "code",
   "execution_count": 1,
   "id": "04207530-5a8b-4c33-87b2-c9f8fa9bf262",
   "metadata": {},
   "outputs": [],
   "source": [
    "#Write a program for the Information Retrieval System using appropriate NLP tools (such as\r\n",
    "#NLTK, Open NLP, …)\r\n",
    "#a. Text tokenization\r\n",
    "#b. Count word frequency\r\n",
    "#c. Remove stop words\r\n",
    "#d. POS tat(\"Invalid operation. Please select a, b, c, or d.\")"
   ]
  },
  {
   "cell_type": "code",
   "execution_count": 2,
   "id": "150264e4-5fc0-4e20-8e8c-4f2a673ef799",
   "metadata": {},
   "outputs": [
    {
     "name": "stderr",
     "output_type": "stream",
     "text": [
      "[nltk_data] Downloading package punkt to\n",
      "[nltk_data]     C:\\Users\\Admin\\AppData\\Roaming\\nltk_data...\n",
      "[nltk_data]   Package punkt is already up-to-date!\n",
      "[nltk_data] Downloading package stopwords to\n",
      "[nltk_data]     C:\\Users\\Admin\\AppData\\Roaming\\nltk_data...\n",
      "[nltk_data]   Package stopwords is already up-to-date!\n",
      "[nltk_data] Downloading package averaged_perceptron_tagger to\n",
      "[nltk_data]     C:\\Users\\Admin\\AppData\\Roaming\\nltk_data...\n",
      "[nltk_data]   Package averaged_perceptron_tagger is already up-to-\n",
      "[nltk_data]       date!\n"
     ]
    },
    {
     "data": {
      "text/plain": [
       "True"
      ]
     },
     "execution_count": 2,
     "metadata": {},
     "output_type": "execute_result"
    }
   ],
   "source": [
    "\n",
    "\n",
    "import nltk\n",
    "from nltk import word_tokenize, FreqDist, pos_tag\n",
    "from nltk.corpus import stopwords\n",
    "\n",
    "nltk.download('punkt')\n",
    "nltk.download('stopwords')\n",
    "nltk.download('averaged_perceptron_tagger')"
   ]
  },
  {
   "cell_type": "code",
   "execution_count": 3,
   "id": "77336864-3003-48a5-b837-55f38142c61c",
   "metadata": {},
   "outputs": [],
   "source": [
    "\n",
    "def text_tokenization(text):\n",
    "    return word_tokenize(text)\n",
    "\n",
    "def count_word_frequency(tokens):\n",
    "    return FreqDist(tokens)\n",
    "\n",
    "def remove_stop_words(tokens):\n",
    "    stop_words = set(stopwords.words('english'))\n",
    "    return [word for word in tokens if word.lower() not in stop_words]\n",
    "\n",
    "def pos_tagging(tokens):\n",
    "    return pos_tag(tokens)"
   ]
  },
  {
   "cell_type": "code",
   "execution_count": 5,
   "id": "f86a0269-7758-4a13-bcdb-a6396fac269c",
   "metadata": {},
   "outputs": [
    {
     "name": "stdin",
     "output_type": "stream",
     "text": [
      "Enter a sentence or a paragraph:  Hello, this is an AI program!\n",
      "Select operation (a. Tokenization, b. Word Frequency, c. Remove Stop Words, d. POS Tagging):  c\n"
     ]
    },
    {
     "name": "stdout",
     "output_type": "stream",
     "text": [
      "Tokens without Stop Words: ['Hello', ',', 'AI', 'program', '!']\n"
     ]
    }
   ],
   "source": [
    "\n",
    "# Get user input\n",
    "text = input(\"Enter a sentence or a paragraph: \")\n",
    "\n",
    "# Ask user which operation to perform\n",
    "operation = input(\"Select operation (a. Tokenization, b. Word Frequency, c. Remove Stop Words, d. POS Tagging): \").lower()\n",
    "\n",
    "# Perform the selected operation\n",
    "if operation == 'a':\n",
    "    tokens = text_tokenization(text)\n",
    "    print(\"Tokens:\", tokens)\n",
    "elif operation == 'b':\n",
    "    tokens = text_tokenization(text)\n",
    "    word_frequency = count_word_frequency(tokens)\n",
    "    print(\"Word Frequency:\", word_frequency)\n",
    "elif operation == 'c':\n",
    "    tokens = text_tokenization(text)\n",
    "    tokens_without_stopwords = remove_stop_words(tokens)\n",
    "    print(\"Tokens without Stop Words:\", tokens_without_stopwords)\n",
    "elif operation == 'd':\n",
    "    tokens = text_tokenization(text)\n",
    "    pos_tags = pos_tagging(tokens)\n",
    "    print(\"POS Tags:\", pos_tags)\n",
    "else:\n",
    "    print(\"Invalid operation. Please select a, b, c, or d.\")"
   ]
  },
  {
   "cell_type": "code",
   "execution_count": null,
   "id": "849814be-76a7-4c45-98a6-577df35c6108",
   "metadata": {},
   "outputs": [],
   "source": []
  }
 ],
 "metadata": {
  "kernelspec": {
   "display_name": "Python 3 (ipykernel)",
   "language": "python",
   "name": "python3"
  },
  "language_info": {
   "codemirror_mode": {
    "name": "ipython",
    "version": 3
   },
   "file_extension": ".py",
   "mimetype": "text/x-python",
   "name": "python",
   "nbconvert_exporter": "python",
   "pygments_lexer": "ipython3",
   "version": "3.11.7"
  }
 },
 "nbformat": 4,
 "nbformat_minor": 5
}
