{
 "cells": [
  {
   "cell_type": "code",
   "execution_count": 1,
   "id": "ef1fb180-0a20-41aa-95f7-32f33a1fc1f2",
   "metadata": {},
   "outputs": [],
   "source": [
    "#Lab Assignment 01\n",
    "#Identify and Implement heuristic and search strategy for Travelling Salesperson Problem"
   ]
  },
  {
   "cell_type": "code",
   "execution_count": 2,
   "id": "fa840701-c9a0-4fc8-9735-14f301865152",
   "metadata": {},
   "outputs": [],
   "source": [
    "import numpy as np\n"
   ]
  },
  {
   "cell_type": "code",
   "execution_count": 3,
   "id": "27fec889-9544-49e8-a222-54a1255f27df",
   "metadata": {},
   "outputs": [],
   "source": [
    "def calculate_distance(city1, city2): \n",
    "    return np.linalg.norm(np.array(city1) - np.array(city2)) "
   ]
  },
  {
   "cell_type": "code",
   "execution_count": 4,
   "id": "c384dad2-66cc-4935-acb7-1cd5153dce54",
   "metadata": {},
   "outputs": [],
   "source": [
    "def nearest_neighbor_algorithm(city_coordinates):  \n",
    "    num_cities = len(city_coordinates) \n",
    "    unvisited_cities = set(range(num_cities))  \n",
    "    tour = []\n",
    "    \n",
    "    # Start from a random city\n",
    "    current_city = np.random.choice(list(unvisited_cities))\n",
    "    unvisited_cities.remove(current_city) \n",
    "    tour.append(current_city)  \n",
    "\n",
    "    \n",
    "    # Visit all unvisited cities\n",
    "    while unvisited_cities:  \n",
    "        nearest_city = min(unvisited_cities, \n",
    "                           key=lambda city: \n",
    "                           calculate_distance(city_coordinates[current_city], city_coordinates[city]))\n",
    "                    \n",
    "        unvisited_cities.remove(nearest_city) \n",
    "        tour.append(nearest_city)\n",
    "        current_city = nearest_city\n",
    "    return tour"
   ]
  },
  {
   "cell_type": "code",
   "execution_count": 5,
   "id": "c988b7d8-260a-46a2-a205-e15421f0e834",
   "metadata": {},
   "outputs": [],
   "source": [
    "def calculate_total_distance(tour, city_coordinates): \n",
    "    total_distance = 0\n",
    "    for i in range(len(tour)):\n",
    "        total_distance += calculate_distance(city_coordinates[tour[i]], city_coordinates[tour[(i + 1) % len(tour)]]) \n",
    "    return total_distance"
   ]
  },
  {
   "cell_type": "code",
   "execution_count": 6,
   "id": "11397df5-5851-40ad-a9a0-08da94ec8d03",
   "metadata": {},
   "outputs": [
    {
     "name": "stdout",
     "output_type": "stream",
     "text": [
      "Optimal tour: [3, 2, 1, 0, 4]\n",
      "Total distance: 18.007793826264315\n"
     ]
    }
   ],
   "source": [
    "# Example usage\n",
    "city_coordinates = [(0, 0), (1, 2), (3, 1), (5, 4), (2, 6)]\n",
    "tour = nearest_neighbor_algorithm(city_coordinates)\n",
    "total_distance = calculate_total_distance(tour, city_coordinates)\n",
    "\n",
    "print(\"Optimal tour:\", tour)\n",
    "print(\"Total distance:\", total_distance)"
   ]
  },
  {
   "cell_type": "code",
   "execution_count": null,
   "id": "003584cc-c7f8-4484-a5f7-9c1e9171b50b",
   "metadata": {},
   "outputs": [],
   "source": []
  }
 ],
 "metadata": {
  "kernelspec": {
   "display_name": "Python 3 (ipykernel)",
   "language": "python",
   "name": "python3"
  },
  "language_info": {
   "codemirror_mode": {
    "name": "ipython",
    "version": 3
   },
   "file_extension": ".py",
   "mimetype": "text/x-python",
   "name": "python",
   "nbconvert_exporter": "python",
   "pygments_lexer": "ipython3",
   "version": "3.11.7"
  }
 },
 "nbformat": 4,
 "nbformat_minor": 5
}
