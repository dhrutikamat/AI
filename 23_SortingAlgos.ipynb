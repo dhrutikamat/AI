{
 "cells": [
  {
   "cell_type": "code",
   "execution_count": 1,
   "id": "857dc188-daeb-459e-ac86-17e3dc5faea2",
   "metadata": {},
   "outputs": [],
   "source": [
    "#Write a program for sorting algorithms using appropriate knowledge representation and\n",
    "#reasoning techniques"
   ]
  },
  {
   "cell_type": "code",
   "execution_count": 2,
   "id": "4d7948dc-98f0-41f9-9131-77fe5223e47f",
   "metadata": {},
   "outputs": [],
   "source": [
    "def bubble_sort(arr):\n",
    "    n = len(arr)\n",
    "\n",
    "    for i in range(n):\n",
    "        for j in range(0, n-i-1):\n",
    "            if arr[j] > arr[j+1]:\n",
    "                arr[j], arr[j+1] = arr[j+1], arr[j]"
   ]
  },
  {
   "cell_type": "code",
   "execution_count": 3,
   "id": "0f4711c3-ba45-4870-8e2b-14e3e6a0f250",
   "metadata": {},
   "outputs": [],
   "source": [
    "\n",
    "def selection_sort(arr):\n",
    "    n = len(arr)\n",
    "\n",
    "    for i in range(n):\n",
    "        min_index = i\n",
    "        for j in range(i+1, n):\n",
    "            if arr[j] < arr[min_index]:\n",
    "                min_index = j\n",
    "\n",
    "        arr[i], arr[min_index] = arr[min_index], arr[i]"
   ]
  },
  {
   "cell_type": "code",
   "execution_count": 4,
   "id": "ac24924c-01ad-4ffa-894c-1a95c0b13c09",
   "metadata": {},
   "outputs": [],
   "source": [
    "\n",
    "def merge_sort(arr):\n",
    "    if len(arr) > 1:\n",
    "        mid = len(arr) // 2\n",
    "        left_half = arr[:mid]\n",
    "        right_half = arr[mid:]\n",
    "\n",
    "        merge_sort(left_half)\n",
    "        merge_sort(right_half)\n",
    "\n",
    "        i = j = k = 0\n",
    "\n",
    "        while i < len(left_half) and j < len(right_half):\n",
    "            if left_half[i] < right_half[j]:\n",
    "                arr[k] = left_half[i]\n",
    "                i += 1\n",
    "            else:\n",
    "                arr[k] = right_half[j]\n",
    "                j += 1\n",
    "            k += 1\n",
    "\n",
    "        while i < len(left_half):\n",
    "            arr[k] = left_half[i]\n",
    "            i += 1\n",
    "            k += 1\n",
    "\n",
    "        while j < len(right_half):\n",
    "            arr[k] = right_half[j]\n",
    "            j += 1\n",
    "            k += 1\n"
   ]
  },
  {
   "cell_type": "code",
   "execution_count": 5,
   "id": "47bf357a-8b63-480c-9a2e-6fa5e12183d4",
   "metadata": {},
   "outputs": [
    {
     "name": "stdin",
     "output_type": "stream",
     "text": [
      "Enter space-separated integers for the array:  3 65 32 13 5\n",
      "Enter sorting method (bubble/selection/merge):  selection\n"
     ]
    },
    {
     "name": "stdout",
     "output_type": "stream",
     "text": [
      "Selection Sorted Array: [3, 5, 13, 32, 65]\n"
     ]
    }
   ],
   "source": [
    "\n",
    "# Get user input for array\n",
    "input_str = input(\"Enter space-separated integers for the array: \")\n",
    "arr = list(map(int, input_str.split()))\n",
    "\n",
    "# Get user input for sorting method\n",
    "sorting_method = input(\"Enter sorting method (bubble/selection/merge): \").lower()\n",
    "\n",
    "# Perform the selected sorting method\n",
    "if sorting_method == 'bubble':\n",
    "    bubble_sorted_arr = list(arr)\n",
    "    bubble_sort(bubble_sorted_arr)\n",
    "    print(\"Bubble Sorted Array:\", bubble_sorted_arr)\n",
    "elif sorting_method == 'selection':\n",
    "    selection_sorted_arr = list(arr)\n",
    "    selection_sort(selection_sorted_arr)\n",
    "    print(\"Selection Sorted Array:\", selection_sorted_arr)\n",
    "elif sorting_method == 'merge':\n",
    "    merge_sorted_arr = list(arr)\n",
    "    merge_sort(merge_sorted_arr)\n",
    "    print(\"Merge Sorted Array:\", merge_sorted_arr)\n",
    "else:\n",
    "    print(\"Invalid sorting method. Please enter 'bubble', 'selection', or 'merge'.\")"
   ]
  },
  {
   "cell_type": "code",
   "execution_count": null,
   "id": "ae478bc5-f24d-4daf-824b-ec14d46e3d60",
   "metadata": {},
   "outputs": [],
   "source": []
  }
 ],
 "metadata": {
  "kernelspec": {
   "display_name": "Python 3 (ipykernel)",
   "language": "python",
   "name": "python3"
  },
  "language_info": {
   "codemirror_mode": {
    "name": "ipython",
    "version": 3
   },
   "file_extension": ".py",
   "mimetype": "text/x-python",
   "name": "python",
   "nbconvert_exporter": "python",
   "pygments_lexer": "ipython3",
   "version": "3.11.7"
  }
 },
 "nbformat": 4,
 "nbformat_minor": 5
}
