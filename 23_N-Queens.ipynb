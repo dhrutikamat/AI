{
 "cells": [
  {
   "cell_type": "code",
   "execution_count": 1,
   "id": "b9600955-df99-4366-93ae-80a7106b3ec2",
   "metadata": {},
   "outputs": [],
   "source": [
    "#Lab Assignment 02 A\n",
    "#Implement n-queens problem using Hill-climbing / simulated annealing / A* algorithm etc.\n"
   ]
  },
  {
   "cell_type": "code",
   "execution_count": 2,
   "id": "69e6d881-632b-4383-b471-ecfeb9a8a989",
   "metadata": {},
   "outputs": [],
   "source": [
    "import random"
   ]
  },
  {
   "cell_type": "code",
   "execution_count": 3,
   "id": "100799b3-c68b-4d5e-9d94-487329552883",
   "metadata": {},
   "outputs": [],
   "source": [
    "\n",
    "def is_valid(board):\n",
    "    n = len(board) \n",
    "    for i in range(n):   \n",
    "        for j in range(i + 1, n):\n",
    "            \n",
    "            if board[i] == board[j] or abs(board[i] - board[j]) == abs(i - j):\n",
    "                return False \n",
    "    return True"
   ]
  },
  {
   "cell_type": "code",
   "execution_count": 4,
   "id": "c30e1113-dd18-4d56-8f6f-df117d81a627",
   "metadata": {},
   "outputs": [],
   "source": [
    "# Function to calculate the number of conflicts (queens attacking each other) on the board\n",
    "def calculate_heuristic(board):\n",
    "    n = len(board)  \n",
    "    conflicts = 0 \n",
    "    for i in range(n):  \n",
    "        for j in range(i + 1, n): \n",
    "            # Check if two queens are on the same column or diagonal\n",
    "            if board[i] == board[j] or abs(board[i] - board[j]) == abs(i - j):\n",
    "                conflicts += 1 \n",
    "    return conflicts "
   ]
  },
  {
   "cell_type": "code",
   "execution_count": 5,
   "id": "63b96700-fce4-40fe-a260-cc64d61bbff5",
   "metadata": {},
   "outputs": [],
   "source": [
    "# Hill climbing algorithm to solve the N-Queens problem\n",
    "def hill_climbing(n):\n",
    "    \n",
    "    current_board = [random.randint(0, n-1) for _ in range(n)] \n",
    "    current_heuristic = calculate_heuristic(current_board)\n",
    "    \n",
    "    while current_heuristic > 0:\n",
    "        next_board = list(current_board)\n",
    "        for i in range(n):\n",
    "            for j in range(n):\n",
    "                if current_board[i] != j:\n",
    "                    next_board[i] = j\n",
    "                    next_heuristic = calculate_heuristic(next_board)\n",
    "                    if next_heuristic < current_heuristic:\n",
    "                        current_board = list(next_board)\n",
    "                        current_heuristic = next_heuristic\n",
    "                        if current_heuristic == calculate_heuristic(current_board):\n",
    "                            break\n",
    "        return current_board \n",
    "    \n",
    "    return current_board"
   ]
  },
  {
   "cell_type": "code",
   "execution_count": 6,
   "id": "8127ec08-d009-4ce7-9a5a-54cceba3befb",
   "metadata": {},
   "outputs": [
    {
     "name": "stdout",
     "output_type": "stream",
     "text": [
      "N-Queens Solution: [4, 2, 3, 5, 6, 7, 3, 5]\n"
     ]
    }
   ],
   "source": [
    "# Example usage\n",
    "n = 8\n",
    "solution = hill_climbing(n)\n",
    "print(\"N-Queens Solution:\", solution)"
   ]
  },
  {
   "cell_type": "code",
   "execution_count": null,
   "id": "8376bbd9-0a77-40c1-8a6a-72a3a105a3c7",
   "metadata": {},
   "outputs": [],
   "source": []
  }
 ],
 "metadata": {
  "kernelspec": {
   "display_name": "Python 3 (ipykernel)",
   "language": "python",
   "name": "python3"
  },
  "language_info": {
   "codemirror_mode": {
    "name": "ipython",
    "version": 3
   },
   "file_extension": ".py",
   "mimetype": "text/x-python",
   "name": "python",
   "nbconvert_exporter": "python",
   "pygments_lexer": "ipython3",
   "version": "3.11.7"
  }
 },
 "nbformat": 4,
 "nbformat_minor": 5
}
