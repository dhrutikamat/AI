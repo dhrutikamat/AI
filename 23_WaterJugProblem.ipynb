{
 "cells": [
  {
   "cell_type": "code",
   "execution_count": 1,
   "id": "c9d22c14-0038-4db2-9c34-d4de536e94d4",
   "metadata": {},
   "outputs": [],
   "source": [
    "#Write a program for Water jug problem / Towers of Hanoi"
   ]
  },
  {
   "cell_type": "code",
   "execution_count": 2,
   "id": "a150216c-0fad-4b13-a91d-afaa3ba78052",
   "metadata": {},
   "outputs": [],
   "source": [
    "from queue import Queue"
   ]
  },
  {
   "cell_type": "code",
   "execution_count": 3,
   "id": "1bcca5d2-5c23-4e8b-9866-b35868655359",
   "metadata": {},
   "outputs": [],
   "source": [
    "\n",
    "def water_jug_bfs(capacity_jug1, capacity_jug2, target):\n",
    "    visited_states = set()\n",
    "    q = Queue()\n",
    "    q.put((0, 0))\n",
    "\n",
    "    while not q.empty():\n",
    "        current_state = q.get()\n",
    "\n",
    "        if current_state in visited_states:\n",
    "            continue\n",
    "\n",
    "        visited_states.add(current_state)\n",
    "\n",
    "        jug1, jug2 = current_state\n",
    "        if jug1 == target or jug2 == target:\n",
    "            return current_state\n",
    "\n",
    "        # Fill jug1\n",
    "        q.put((capacity_jug1, jug2))\n",
    "        # Fill jug2\n",
    "        q.put((jug1, capacity_jug2))\n",
    "        # Empty jug1\n",
    "        q.put((0, jug2))\n",
    "        # Empty jug2\n",
    "        q.put((jug1, 0))\n",
    "        # Pour jug1 to jug2\n",
    "        pour_amount = min(jug1, capacity_jug2 - jug2)\n",
    "        q.put((jug1 - pour_amount, jug2 + pour_amount))\n",
    "        # Pour jug2 to jug1\n",
    "        pour_amount = min(jug2, capacity_jug1 - jug1)\n",
    "        q.put((jug1 + pour_amount, jug2 - pour_amount))\n",
    "\n",
    "    return None\n"
   ]
  },
  {
   "cell_type": "code",
   "execution_count": 4,
   "id": "4175188e-acf6-4d23-b9d6-968365c093c3",
   "metadata": {},
   "outputs": [
    {
     "name": "stdout",
     "output_type": "stream",
     "text": [
      "Water Jug Solution: (4, 2)\n"
     ]
    }
   ],
   "source": [
    "\n",
    "# Example usage\n",
    "capacity_jug1 = 4\n",
    "capacity_jug2 = 3\n",
    "target = 2\n",
    "result = water_jug_bfs(capacity_jug1, capacity_jug2, target)\n",
    "print(\"Water Jug Solution:\", result)"
   ]
  },
  {
   "cell_type": "code",
   "execution_count": null,
   "id": "ddb36709-6954-465d-b29f-7b002d2adcaa",
   "metadata": {},
   "outputs": [],
   "source": []
  }
 ],
 "metadata": {
  "kernelspec": {
   "display_name": "Python 3 (ipykernel)",
   "language": "python",
   "name": "python3"
  },
  "language_info": {
   "codemirror_mode": {
    "name": "ipython",
    "version": 3
   },
   "file_extension": ".py",
   "mimetype": "text/x-python",
   "name": "python",
   "nbconvert_exporter": "python",
   "pygments_lexer": "ipython3",
   "version": "3.11.7"
  }
 },
 "nbformat": 4,
 "nbformat_minor": 5
}
